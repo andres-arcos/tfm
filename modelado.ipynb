{
 "cells": [
  {
   "cell_type": "code",
   "execution_count": 4,
   "id": "4e362654-45b5-4d73-8c9f-46cc3ce68471",
   "metadata": {},
   "outputs": [],
   "source": [
    "from variables_globales import *\n",
    "from librerias import *\n",
    "from funciones import *"
   ]
  },
  {
   "cell_type": "markdown",
   "id": "14cb644f-d4b9-4761-a74f-9cf4ae3c2eb6",
   "metadata": {},
   "source": [
    "### Carga de información"
   ]
  },
  {
   "cell_type": "code",
   "execution_count": 5,
   "id": "13e29269-b08b-4e0b-801d-db4eb0bf2046",
   "metadata": {},
   "outputs": [
    {
     "data": {
      "text/html": [
       "<div>\n",
       "<style scoped>\n",
       "    .dataframe tbody tr th:only-of-type {\n",
       "        vertical-align: middle;\n",
       "    }\n",
       "\n",
       "    .dataframe tbody tr th {\n",
       "        vertical-align: top;\n",
       "    }\n",
       "\n",
       "    .dataframe thead th {\n",
       "        text-align: right;\n",
       "    }\n",
       "</style>\n",
       "<table border=\"1\" class=\"dataframe\">\n",
       "  <thead>\n",
       "    <tr style=\"text-align: right;\">\n",
       "      <th></th>\n",
       "      <th>texto_limpio</th>\n",
       "      <th>sent_manual</th>\n",
       "      <th>canidato</th>\n",
       "    </tr>\n",
       "  </thead>\n",
       "  <tbody>\n",
       "    <tr>\n",
       "      <th>0</th>\n",
       "      <td>correistas</td>\n",
       "      <td>NEU</td>\n",
       "      <td>luisa</td>\n",
       "    </tr>\n",
       "    <tr>\n",
       "      <th>1</th>\n",
       "      <td>no mientas rana rene a qué vuelves a españa al...</td>\n",
       "      <td>NEG</td>\n",
       "      <td>luisa</td>\n",
       "    </tr>\n",
       "  </tbody>\n",
       "</table>\n",
       "</div>"
      ],
      "text/plain": [
       "                                        texto_limpio sent_manual canidato\n",
       "0                                        correistas          NEU    luisa\n",
       "1  no mientas rana rene a qué vuelves a españa al...         NEG    luisa"
      ]
     },
     "execution_count": 5,
     "metadata": {},
     "output_type": "execute_result"
    }
   ],
   "source": [
    "df_luisa = pd.read_excel(\"a_insumos\\\\luisa_sent_manual_full_justified.xlsx\")\\\n",
    "             [[\"texto_limpio\",\"sent_manual\"]]\n",
    "df_luisa[\"canidato\"] = \"luisa\"\n",
    "df_noboa = pd.read_excel(\"a_insumos\\\\noboa_sent_manual_full_justified.xlsx\")\\\n",
    "             [[\"texto_limpio\",\"sent_manual\"]]\n",
    "df_noboa[\"canidato\"] = \"noboa\"\n",
    "df = pd.concat([df_luisa,df_noboa])\n",
    "df.head(2)"
   ]
  },
  {
   "cell_type": "code",
   "execution_count": 6,
   "id": "d2b9787d-bf97-4dba-8d71-88cc111f2e39",
   "metadata": {},
   "outputs": [
    {
     "name": "stdout",
     "output_type": "stream",
     "text": [
      "(13116, 3)\n",
      "(13116, 3)\n"
     ]
    }
   ],
   "source": [
    "print(df.shape)\n",
    "df = df.dropna(subset=['texto_limpio'])\n",
    "print(df.shape)\n",
    "df['texto_limpio'] = df['texto_limpio'].str.lower().str.strip()"
   ]
  },
  {
   "cell_type": "markdown",
   "id": "65b4321e-c155-447b-884c-197cc6d7cdea",
   "metadata": {},
   "source": [
    "### Entrenamiento Modelos"
   ]
  },
  {
   "cell_type": "markdown",
   "id": "dab080c8-ff87-4c26-937e-e7c2884210c1",
   "metadata": {},
   "source": [
    "#### División en test y training"
   ]
  },
  {
   "cell_type": "code",
   "execution_count": null,
   "id": "bd9f0e9e-f426-4f98-87c4-48c597c314c7",
   "metadata": {},
   "outputs": [],
   "source": [
    "X_train, X_test, y_train, y_test, vectorizer, encoder = preparar_datos(df)\n",
    "num_clases = len(encoder.classes_)"
   ]
  },
  {
   "cell_type": "markdown",
   "id": "e9fc94a4-2418-422a-8c59-3de7dc8be0f6",
   "metadata": {},
   "source": [
    "#### XGboost"
   ]
  },
  {
   "cell_type": "code",
   "execution_count": 10,
   "id": "63336e21-f57d-4af6-af81-607cf485d566",
   "metadata": {},
   "outputs": [
    {
     "name": "stdout",
     "output_type": "stream",
     "text": [
      "              precision    recall  f1-score   support\n",
      "\n",
      "         NEG       0.78      0.90      0.84      1629\n",
      "         NEU       0.58      0.44      0.50       696\n",
      "         POS       0.71      0.48      0.57       299\n",
      "\n",
      "    accuracy                           0.73      2624\n",
      "   macro avg       0.69      0.61      0.64      2624\n",
      "weighted avg       0.72      0.73      0.72      2624\n",
      "\n",
      "[[1471  141   17]\n",
      " [ 347  307   42]\n",
      " [  74   82  143]]\n"
     ]
    }
   ],
   "source": [
    "xgb = entrenar_xgboost(X_train, y_train, num_clases)\n",
    "evaluar_modelo(xgb, X_test, y_test, encoder)"
   ]
  },
  {
   "cell_type": "markdown",
   "id": "c61f2ac3-3c7b-454b-8827-364a1bede0bb",
   "metadata": {},
   "source": [
    "#### Random Forest"
   ]
  },
  {
   "cell_type": "code",
   "execution_count": 11,
   "id": "5eb50dfc-c4fe-4034-90c3-ac9a63306916",
   "metadata": {},
   "outputs": [
    {
     "name": "stdout",
     "output_type": "stream",
     "text": [
      "              precision    recall  f1-score   support\n",
      "\n",
      "         NEG       0.74      0.93      0.82      1629\n",
      "         NEU       0.63      0.39      0.48       696\n",
      "         POS       0.68      0.38      0.49       299\n",
      "\n",
      "    accuracy                           0.72      2624\n",
      "   macro avg       0.69      0.57      0.60      2624\n",
      "weighted avg       0.71      0.72      0.70      2624\n",
      "\n",
      "[[1507  105   17]\n",
      " [ 390  270   36]\n",
      " [ 129   55  115]]\n"
     ]
    }
   ],
   "source": [
    "rf = entrenar_random_forest(X_train, y_train)\n",
    "evaluar_modelo(rf, X_test, y_test, encoder)"
   ]
  },
  {
   "cell_type": "markdown",
   "id": "418576f5-395b-4591-a50a-4aab38b71e1e",
   "metadata": {},
   "source": [
    "#### Red neuronal"
   ]
  },
  {
   "cell_type": "code",
   "execution_count": 12,
   "id": "88a0dbdb-7174-41a2-b56a-b01bab71a6aa",
   "metadata": {},
   "outputs": [
    {
     "name": "stderr",
     "output_type": "stream",
     "text": [
      "C:\\Users\\Cristian Sanchez\\anaconda3\\Lib\\site-packages\\keras\\src\\layers\\core\\dense.py:93: UserWarning: Do not pass an `input_shape`/`input_dim` argument to a layer. When using Sequential models, prefer using an `Input(shape)` object as the first layer in the model instead.\n",
      "  super().__init__(activity_regularizer=activity_regularizer, **kwargs)\n"
     ]
    },
    {
     "name": "stdout",
     "output_type": "stream",
     "text": [
      "              precision    recall  f1-score   support\n",
      "\n",
      "         NEG       0.76      0.95      0.84      1629\n",
      "         NEU       0.61      0.35      0.45       696\n",
      "         POS       0.77      0.46      0.57       299\n",
      "\n",
      "    accuracy                           0.74      2624\n",
      "   macro avg       0.71      0.59      0.62      2624\n",
      "weighted avg       0.72      0.74      0.71      2624\n",
      "\n",
      "[[1547   77    5]\n",
      " [ 414  246   36]\n",
      " [  82   80  137]]\n"
     ]
    }
   ],
   "source": [
    "rn = entrenar_red_neuronal(X_train, y_train, num_clases)\n",
    "y_pred_rn = predecir_red_neuronal(rn, X_test, num_clases)\n",
    "from sklearn.metrics import classification_report, confusion_matrix\n",
    "print(classification_report(y_test, y_pred_rn, target_names=encoder.classes_))\n",
    "print(confusion_matrix(y_test, y_pred_rn))"
   ]
  },
  {
   "cell_type": "code",
   "execution_count": null,
   "id": "4d3239b6-d6d5-440a-b8ad-5b0187275ee7",
   "metadata": {},
   "outputs": [],
   "source": []
  }
 ],
 "metadata": {
  "kernelspec": {
   "display_name": "Python 3 (ipykernel)",
   "language": "python",
   "name": "python3"
  },
  "language_info": {
   "codemirror_mode": {
    "name": "ipython",
    "version": 3
   },
   "file_extension": ".py",
   "mimetype": "text/x-python",
   "name": "python",
   "nbconvert_exporter": "python",
   "pygments_lexer": "ipython3",
   "version": "3.12.7"
  }
 },
 "nbformat": 4,
 "nbformat_minor": 5
}
