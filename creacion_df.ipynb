{
 "cells": [
  {
   "cell_type": "code",
   "execution_count": 1,
   "metadata": {},
   "outputs": [],
   "source": [
    "import os\n",
    "import json\n",
    "import pandas as pd"
   ]
  },
  {
   "cell_type": "markdown",
   "metadata": {},
   "source": [
    "### Creación DF Daniel Noboa"
   ]
  },
  {
   "cell_type": "code",
   "execution_count": 4,
   "metadata": {},
   "outputs": [],
   "source": [
    "carpeta = r\"Daniel Noboa\"\n",
    "todos_los_datos = []\n",
    "for archivo in os.listdir(carpeta):\n",
    "    if archivo.endswith(\".json\"):\n",
    "        ruta_completa = os.path.join(carpeta, archivo)\n",
    "        with open(ruta_completa, \"r\", encoding=\"utf-8\") as f:\n",
    "                datos = json.load(f)\n",
    "                todos_los_datos.append(datos)\n",
    "df = pd.DataFrame(todos_los_datos)"
   ]
  },
  {
   "cell_type": "code",
   "execution_count": 8,
   "metadata": {},
   "outputs": [
    {
     "name": "stdout",
     "output_type": "stream",
     "text": [
      "Total de archivos JSON encontrados: 9462\n",
      "Ejemplos de archivos encontrados:\n",
      "['1947084104761012264.json', '1947084152609570952.json', '1947084166094373149.json', '1947084220712563156.json', '1947084348861108329.json', '1947084378573619652.json', '1947084689686368614.json', '1947084707851546637.json', '1947084798117196106.json', '1947084840232182072.json']\n"
     ]
    }
   ],
   "source": [
    "archivos_json = [f for f in os.listdir(carpeta) if f.endswith(\".json\")]\n",
    "print(f\"Total de archivos JSON encontrados: {len(archivos_json)}\")\n",
    "print(\"Ejemplos de archivos encontrados:\",archivos_json[:10])\n",
    "df.to_excel(\"tweets_noboa.xlsx\", index=False)"
   ]
  },
  {
   "cell_type": "markdown",
   "metadata": {},
   "source": [
    "### Creación DF Luisa Gonzales"
   ]
  },
  {
   "cell_type": "code",
   "execution_count": 22,
   "metadata": {},
   "outputs": [],
   "source": [
    "carpeta = r\"Luisa Gonzales\"\n",
    "todos_los_datos = []\n",
    "for archivo in os.listdir(carpeta):\n",
    "    if archivo.endswith(\".json\"):\n",
    "        ruta_completa = os.path.join(carpeta, archivo)\n",
    "        with open(ruta_completa, \"r\", encoding=\"utf-8\") as f:\n",
    "                datos = json.load(f)\n",
    "                todos_los_datos.append(datos)\n",
    "df = pd.DataFrame(todos_los_datos)"
   ]
  },
  {
   "cell_type": "code",
   "execution_count": 23,
   "metadata": {},
   "outputs": [
    {
     "name": "stdout",
     "output_type": "stream",
     "text": [
      "📦 Total de archivos JSON encontrados en carpeta Luisa: 4095\n",
      "Ejemplos de archivos: ['1947012733896991022.json', '1947012956589335002.json', '1947013370994987509.json', '1947013656773881906.json', '1947013822423695675.json']\n"
     ]
    }
   ],
   "source": [
    "archivos_json = [f for f in os.listdir(carpeta) if f.endswith(\".json\")]\n",
    "print(f\"Total de archivos JSON encontrados en carpeta Luisa: {len(archivos_json)}\")\n",
    "print(\"Ejemplos de archivos:\", archivos_json[:5])\n",
    "df.to_excel(\"tweets_luisa_gonzalez.xlsx\", index=False)"
   ]
  }
 ],
 "metadata": {
  "kernelspec": {
   "display_name": "Python 3 (ipykernel)",
   "language": "python",
   "name": "python3"
  },
  "language_info": {
   "codemirror_mode": {
    "name": "ipython",
    "version": 3
   },
   "file_extension": ".py",
   "mimetype": "text/x-python",
   "name": "python",
   "nbconvert_exporter": "python",
   "pygments_lexer": "ipython3",
   "version": "3.12.7"
  }
 },
 "nbformat": 4,
 "nbformat_minor": 4
}
